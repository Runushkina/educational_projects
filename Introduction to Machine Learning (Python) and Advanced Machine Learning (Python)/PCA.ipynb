{
  "nbformat": 4,
  "nbformat_minor": 0,
  "metadata": {
    "colab": {
      "provenance": [],
      "include_colab_link": true
    },
    "kernelspec": {
      "name": "python3",
      "display_name": "Python 3"
    },
    "language_info": {
      "name": "python"
    }
  },
  "cells": [
    {
      "cell_type": "markdown",
      "metadata": {
        "id": "view-in-github",
        "colab_type": "text"
      },
      "source": [
        "<a href=\"https://colab.research.google.com/github/Runushkina/educational_projects/blob/main/Introduction%20to%20Machine%20Learning%20(Python)%20and%20Advanced%20Machine%20Learning%20(Python)/PCA.ipynb\" target=\"_parent\"><img src=\"https://colab.research.google.com/assets/colab-badge.svg\" alt=\"Open In Colab\"/></a>"
      ]
    },
    {
      "cell_type": "code",
      "execution_count": null,
      "metadata": {
        "id": "yV02GIgEOUog"
      },
      "outputs": [],
      "source": [
        "#importing the libraries\n",
        "import numpy as np\n",
        "import pandas as pd\n",
        "import matplotlib.pyplot as plt\n",
        "from sklearn.decomposition import PCA"
      ]
    },
    {
      "cell_type": "code",
      "source": [
        "# mounting my drive\n",
        "from google.colab import drive\n",
        "drive.mount('/content/drive')"
      ],
      "metadata": {
        "colab": {
          "base_uri": "https://localhost:8080/"
        },
        "id": "0OkObF9NObbZ",
        "outputId": "6dc19713-3bf4-43b1-f7c9-67a11f9bf203"
      },
      "execution_count": null,
      "outputs": [
        {
          "output_type": "stream",
          "name": "stdout",
          "text": [
            "Mounted at /content/drive\n"
          ]
        }
      ]
    },
    {
      "cell_type": "markdown",
      "source": [
        "# Task 1"
      ],
      "metadata": {
        "id": "xt4Ce12rZihA"
      }
    },
    {
      "cell_type": "code",
      "source": [
        "data = pd.read_csv('/content/drive/My Drive/Data/94_16.csv', header=None) #reading the data\n",
        "data.head(10)"
      ],
      "metadata": {
        "colab": {
          "base_uri": "https://localhost:8080/",
          "height": 359
        },
        "id": "Ie8jWonOOl8H",
        "outputId": "1be4da48-3bf2-4761-b2a2-9081789e34c5"
      },
      "execution_count": null,
      "outputs": [
        {
          "output_type": "execute_result",
          "data": {
            "text/plain": [
              "           0          1          2          3          4          5  \\\n",
              "0  10.382991 -14.438544 -23.950798 -17.809813   2.480495 -15.743114   \n",
              "1  18.987842 -13.071734  15.619164 -11.288528 -11.624820  14.845464   \n",
              "2   7.426000  -9.236580 -21.139348   6.732592   0.447684 -20.687020   \n",
              "3  10.718844 -10.240587 -20.604991   4.828083  -0.073568 -23.747055   \n",
              "4  10.662165   3.871777  12.384108  -1.921321  -1.990254  -5.469310   \n",
              "5   9.601509 -17.334996 -24.127299 -19.342414   0.492613 -13.377177   \n",
              "6   9.775003  -8.705064 -21.636552   7.356519   2.160537 -23.072937   \n",
              "7  11.259948 -14.889241 -21.940512 -16.009979   0.024598 -15.101501   \n",
              "8   9.990271 -10.760423 -23.022906   5.507930  -0.164068 -23.644331   \n",
              "9  10.085331 -14.157765 -24.167099 -17.898493  -0.233567 -15.999375   \n",
              "\n",
              "           6          7          8          9  \n",
              "0  -9.112421 -27.390035 -11.955001  18.069910  \n",
              "1  -4.924935  21.207876 -23.703025   4.440474  \n",
              "2 -18.545136   7.758288  18.620790  -3.006755  \n",
              "3 -17.260869   7.074364  16.996747  -6.796469  \n",
              "4   2.801321 -19.978717  23.414766  -2.654889  \n",
              "5 -11.756583 -23.998003 -12.997439  18.554854  \n",
              "6 -17.002317   5.345636  15.625533  -5.754360  \n",
              "7 -10.039564 -23.297495  -9.398128  22.819532  \n",
              "8 -16.596488   4.921537  13.893486  -4.326099  \n",
              "9 -13.649157 -24.139879 -11.306592  19.955061  "
            ],
            "text/html": [
              "\n",
              "  <div id=\"df-f47670e8-7125-41de-8c72-bbfb82bfcc77\" class=\"colab-df-container\">\n",
              "    <div>\n",
              "<style scoped>\n",
              "    .dataframe tbody tr th:only-of-type {\n",
              "        vertical-align: middle;\n",
              "    }\n",
              "\n",
              "    .dataframe tbody tr th {\n",
              "        vertical-align: top;\n",
              "    }\n",
              "\n",
              "    .dataframe thead th {\n",
              "        text-align: right;\n",
              "    }\n",
              "</style>\n",
              "<table border=\"1\" class=\"dataframe\">\n",
              "  <thead>\n",
              "    <tr style=\"text-align: right;\">\n",
              "      <th></th>\n",
              "      <th>0</th>\n",
              "      <th>1</th>\n",
              "      <th>2</th>\n",
              "      <th>3</th>\n",
              "      <th>4</th>\n",
              "      <th>5</th>\n",
              "      <th>6</th>\n",
              "      <th>7</th>\n",
              "      <th>8</th>\n",
              "      <th>9</th>\n",
              "    </tr>\n",
              "  </thead>\n",
              "  <tbody>\n",
              "    <tr>\n",
              "      <th>0</th>\n",
              "      <td>10.382991</td>\n",
              "      <td>-14.438544</td>\n",
              "      <td>-23.950798</td>\n",
              "      <td>-17.809813</td>\n",
              "      <td>2.480495</td>\n",
              "      <td>-15.743114</td>\n",
              "      <td>-9.112421</td>\n",
              "      <td>-27.390035</td>\n",
              "      <td>-11.955001</td>\n",
              "      <td>18.069910</td>\n",
              "    </tr>\n",
              "    <tr>\n",
              "      <th>1</th>\n",
              "      <td>18.987842</td>\n",
              "      <td>-13.071734</td>\n",
              "      <td>15.619164</td>\n",
              "      <td>-11.288528</td>\n",
              "      <td>-11.624820</td>\n",
              "      <td>14.845464</td>\n",
              "      <td>-4.924935</td>\n",
              "      <td>21.207876</td>\n",
              "      <td>-23.703025</td>\n",
              "      <td>4.440474</td>\n",
              "    </tr>\n",
              "    <tr>\n",
              "      <th>2</th>\n",
              "      <td>7.426000</td>\n",
              "      <td>-9.236580</td>\n",
              "      <td>-21.139348</td>\n",
              "      <td>6.732592</td>\n",
              "      <td>0.447684</td>\n",
              "      <td>-20.687020</td>\n",
              "      <td>-18.545136</td>\n",
              "      <td>7.758288</td>\n",
              "      <td>18.620790</td>\n",
              "      <td>-3.006755</td>\n",
              "    </tr>\n",
              "    <tr>\n",
              "      <th>3</th>\n",
              "      <td>10.718844</td>\n",
              "      <td>-10.240587</td>\n",
              "      <td>-20.604991</td>\n",
              "      <td>4.828083</td>\n",
              "      <td>-0.073568</td>\n",
              "      <td>-23.747055</td>\n",
              "      <td>-17.260869</td>\n",
              "      <td>7.074364</td>\n",
              "      <td>16.996747</td>\n",
              "      <td>-6.796469</td>\n",
              "    </tr>\n",
              "    <tr>\n",
              "      <th>4</th>\n",
              "      <td>10.662165</td>\n",
              "      <td>3.871777</td>\n",
              "      <td>12.384108</td>\n",
              "      <td>-1.921321</td>\n",
              "      <td>-1.990254</td>\n",
              "      <td>-5.469310</td>\n",
              "      <td>2.801321</td>\n",
              "      <td>-19.978717</td>\n",
              "      <td>23.414766</td>\n",
              "      <td>-2.654889</td>\n",
              "    </tr>\n",
              "    <tr>\n",
              "      <th>5</th>\n",
              "      <td>9.601509</td>\n",
              "      <td>-17.334996</td>\n",
              "      <td>-24.127299</td>\n",
              "      <td>-19.342414</td>\n",
              "      <td>0.492613</td>\n",
              "      <td>-13.377177</td>\n",
              "      <td>-11.756583</td>\n",
              "      <td>-23.998003</td>\n",
              "      <td>-12.997439</td>\n",
              "      <td>18.554854</td>\n",
              "    </tr>\n",
              "    <tr>\n",
              "      <th>6</th>\n",
              "      <td>9.775003</td>\n",
              "      <td>-8.705064</td>\n",
              "      <td>-21.636552</td>\n",
              "      <td>7.356519</td>\n",
              "      <td>2.160537</td>\n",
              "      <td>-23.072937</td>\n",
              "      <td>-17.002317</td>\n",
              "      <td>5.345636</td>\n",
              "      <td>15.625533</td>\n",
              "      <td>-5.754360</td>\n",
              "    </tr>\n",
              "    <tr>\n",
              "      <th>7</th>\n",
              "      <td>11.259948</td>\n",
              "      <td>-14.889241</td>\n",
              "      <td>-21.940512</td>\n",
              "      <td>-16.009979</td>\n",
              "      <td>0.024598</td>\n",
              "      <td>-15.101501</td>\n",
              "      <td>-10.039564</td>\n",
              "      <td>-23.297495</td>\n",
              "      <td>-9.398128</td>\n",
              "      <td>22.819532</td>\n",
              "    </tr>\n",
              "    <tr>\n",
              "      <th>8</th>\n",
              "      <td>9.990271</td>\n",
              "      <td>-10.760423</td>\n",
              "      <td>-23.022906</td>\n",
              "      <td>5.507930</td>\n",
              "      <td>-0.164068</td>\n",
              "      <td>-23.644331</td>\n",
              "      <td>-16.596488</td>\n",
              "      <td>4.921537</td>\n",
              "      <td>13.893486</td>\n",
              "      <td>-4.326099</td>\n",
              "    </tr>\n",
              "    <tr>\n",
              "      <th>9</th>\n",
              "      <td>10.085331</td>\n",
              "      <td>-14.157765</td>\n",
              "      <td>-24.167099</td>\n",
              "      <td>-17.898493</td>\n",
              "      <td>-0.233567</td>\n",
              "      <td>-15.999375</td>\n",
              "      <td>-13.649157</td>\n",
              "      <td>-24.139879</td>\n",
              "      <td>-11.306592</td>\n",
              "      <td>19.955061</td>\n",
              "    </tr>\n",
              "  </tbody>\n",
              "</table>\n",
              "</div>\n",
              "    <div class=\"colab-df-buttons\">\n",
              "\n",
              "  <div class=\"colab-df-container\">\n",
              "    <button class=\"colab-df-convert\" onclick=\"convertToInteractive('df-f47670e8-7125-41de-8c72-bbfb82bfcc77')\"\n",
              "            title=\"Convert this dataframe to an interactive table.\"\n",
              "            style=\"display:none;\">\n",
              "\n",
              "  <svg xmlns=\"http://www.w3.org/2000/svg\" height=\"24px\" viewBox=\"0 -960 960 960\">\n",
              "    <path d=\"M120-120v-720h720v720H120Zm60-500h600v-160H180v160Zm220 220h160v-160H400v160Zm0 220h160v-160H400v160ZM180-400h160v-160H180v160Zm440 0h160v-160H620v160ZM180-180h160v-160H180v160Zm440 0h160v-160H620v160Z\"/>\n",
              "  </svg>\n",
              "    </button>\n",
              "\n",
              "  <style>\n",
              "    .colab-df-container {\n",
              "      display:flex;\n",
              "      gap: 12px;\n",
              "    }\n",
              "\n",
              "    .colab-df-convert {\n",
              "      background-color: #E8F0FE;\n",
              "      border: none;\n",
              "      border-radius: 50%;\n",
              "      cursor: pointer;\n",
              "      display: none;\n",
              "      fill: #1967D2;\n",
              "      height: 32px;\n",
              "      padding: 0 0 0 0;\n",
              "      width: 32px;\n",
              "    }\n",
              "\n",
              "    .colab-df-convert:hover {\n",
              "      background-color: #E2EBFA;\n",
              "      box-shadow: 0px 1px 2px rgba(60, 64, 67, 0.3), 0px 1px 3px 1px rgba(60, 64, 67, 0.15);\n",
              "      fill: #174EA6;\n",
              "    }\n",
              "\n",
              "    .colab-df-buttons div {\n",
              "      margin-bottom: 4px;\n",
              "    }\n",
              "\n",
              "    [theme=dark] .colab-df-convert {\n",
              "      background-color: #3B4455;\n",
              "      fill: #D2E3FC;\n",
              "    }\n",
              "\n",
              "    [theme=dark] .colab-df-convert:hover {\n",
              "      background-color: #434B5C;\n",
              "      box-shadow: 0px 1px 3px 1px rgba(0, 0, 0, 0.15);\n",
              "      filter: drop-shadow(0px 1px 2px rgba(0, 0, 0, 0.3));\n",
              "      fill: #FFFFFF;\n",
              "    }\n",
              "  </style>\n",
              "\n",
              "    <script>\n",
              "      const buttonEl =\n",
              "        document.querySelector('#df-f47670e8-7125-41de-8c72-bbfb82bfcc77 button.colab-df-convert');\n",
              "      buttonEl.style.display =\n",
              "        google.colab.kernel.accessAllowed ? 'block' : 'none';\n",
              "\n",
              "      async function convertToInteractive(key) {\n",
              "        const element = document.querySelector('#df-f47670e8-7125-41de-8c72-bbfb82bfcc77');\n",
              "        const dataTable =\n",
              "          await google.colab.kernel.invokeFunction('convertToInteractive',\n",
              "                                                    [key], {});\n",
              "        if (!dataTable) return;\n",
              "\n",
              "        const docLinkHtml = 'Like what you see? Visit the ' +\n",
              "          '<a target=\"_blank\" href=https://colab.research.google.com/notebooks/data_table.ipynb>data table notebook</a>'\n",
              "          + ' to learn more about interactive tables.';\n",
              "        element.innerHTML = '';\n",
              "        dataTable['output_type'] = 'display_data';\n",
              "        await google.colab.output.renderOutput(dataTable, element);\n",
              "        const docLink = document.createElement('div');\n",
              "        docLink.innerHTML = docLinkHtml;\n",
              "        element.appendChild(docLink);\n",
              "      }\n",
              "    </script>\n",
              "  </div>\n",
              "\n",
              "\n",
              "<div id=\"df-cdeccb66-d6ea-4b09-b7c6-eac317714c4d\">\n",
              "  <button class=\"colab-df-quickchart\" onclick=\"quickchart('df-cdeccb66-d6ea-4b09-b7c6-eac317714c4d')\"\n",
              "            title=\"Suggest charts\"\n",
              "            style=\"display:none;\">\n",
              "\n",
              "<svg xmlns=\"http://www.w3.org/2000/svg\" height=\"24px\"viewBox=\"0 0 24 24\"\n",
              "     width=\"24px\">\n",
              "    <g>\n",
              "        <path d=\"M19 3H5c-1.1 0-2 .9-2 2v14c0 1.1.9 2 2 2h14c1.1 0 2-.9 2-2V5c0-1.1-.9-2-2-2zM9 17H7v-7h2v7zm4 0h-2V7h2v10zm4 0h-2v-4h2v4z\"/>\n",
              "    </g>\n",
              "</svg>\n",
              "  </button>\n",
              "\n",
              "<style>\n",
              "  .colab-df-quickchart {\n",
              "      --bg-color: #E8F0FE;\n",
              "      --fill-color: #1967D2;\n",
              "      --hover-bg-color: #E2EBFA;\n",
              "      --hover-fill-color: #174EA6;\n",
              "      --disabled-fill-color: #AAA;\n",
              "      --disabled-bg-color: #DDD;\n",
              "  }\n",
              "\n",
              "  [theme=dark] .colab-df-quickchart {\n",
              "      --bg-color: #3B4455;\n",
              "      --fill-color: #D2E3FC;\n",
              "      --hover-bg-color: #434B5C;\n",
              "      --hover-fill-color: #FFFFFF;\n",
              "      --disabled-bg-color: #3B4455;\n",
              "      --disabled-fill-color: #666;\n",
              "  }\n",
              "\n",
              "  .colab-df-quickchart {\n",
              "    background-color: var(--bg-color);\n",
              "    border: none;\n",
              "    border-radius: 50%;\n",
              "    cursor: pointer;\n",
              "    display: none;\n",
              "    fill: var(--fill-color);\n",
              "    height: 32px;\n",
              "    padding: 0;\n",
              "    width: 32px;\n",
              "  }\n",
              "\n",
              "  .colab-df-quickchart:hover {\n",
              "    background-color: var(--hover-bg-color);\n",
              "    box-shadow: 0 1px 2px rgba(60, 64, 67, 0.3), 0 1px 3px 1px rgba(60, 64, 67, 0.15);\n",
              "    fill: var(--button-hover-fill-color);\n",
              "  }\n",
              "\n",
              "  .colab-df-quickchart-complete:disabled,\n",
              "  .colab-df-quickchart-complete:disabled:hover {\n",
              "    background-color: var(--disabled-bg-color);\n",
              "    fill: var(--disabled-fill-color);\n",
              "    box-shadow: none;\n",
              "  }\n",
              "\n",
              "  .colab-df-spinner {\n",
              "    border: 2px solid var(--fill-color);\n",
              "    border-color: transparent;\n",
              "    border-bottom-color: var(--fill-color);\n",
              "    animation:\n",
              "      spin 1s steps(1) infinite;\n",
              "  }\n",
              "\n",
              "  @keyframes spin {\n",
              "    0% {\n",
              "      border-color: transparent;\n",
              "      border-bottom-color: var(--fill-color);\n",
              "      border-left-color: var(--fill-color);\n",
              "    }\n",
              "    20% {\n",
              "      border-color: transparent;\n",
              "      border-left-color: var(--fill-color);\n",
              "      border-top-color: var(--fill-color);\n",
              "    }\n",
              "    30% {\n",
              "      border-color: transparent;\n",
              "      border-left-color: var(--fill-color);\n",
              "      border-top-color: var(--fill-color);\n",
              "      border-right-color: var(--fill-color);\n",
              "    }\n",
              "    40% {\n",
              "      border-color: transparent;\n",
              "      border-right-color: var(--fill-color);\n",
              "      border-top-color: var(--fill-color);\n",
              "    }\n",
              "    60% {\n",
              "      border-color: transparent;\n",
              "      border-right-color: var(--fill-color);\n",
              "    }\n",
              "    80% {\n",
              "      border-color: transparent;\n",
              "      border-right-color: var(--fill-color);\n",
              "      border-bottom-color: var(--fill-color);\n",
              "    }\n",
              "    90% {\n",
              "      border-color: transparent;\n",
              "      border-bottom-color: var(--fill-color);\n",
              "    }\n",
              "  }\n",
              "</style>\n",
              "\n",
              "  <script>\n",
              "    async function quickchart(key) {\n",
              "      const quickchartButtonEl =\n",
              "        document.querySelector('#' + key + ' button');\n",
              "      quickchartButtonEl.disabled = true;  // To prevent multiple clicks.\n",
              "      quickchartButtonEl.classList.add('colab-df-spinner');\n",
              "      try {\n",
              "        const charts = await google.colab.kernel.invokeFunction(\n",
              "            'suggestCharts', [key], {});\n",
              "      } catch (error) {\n",
              "        console.error('Error during call to suggestCharts:', error);\n",
              "      }\n",
              "      quickchartButtonEl.classList.remove('colab-df-spinner');\n",
              "      quickchartButtonEl.classList.add('colab-df-quickchart-complete');\n",
              "    }\n",
              "    (() => {\n",
              "      let quickchartButtonEl =\n",
              "        document.querySelector('#df-cdeccb66-d6ea-4b09-b7c6-eac317714c4d button');\n",
              "      quickchartButtonEl.style.display =\n",
              "        google.colab.kernel.accessAllowed ? 'block' : 'none';\n",
              "    })();\n",
              "  </script>\n",
              "</div>\n",
              "    </div>\n",
              "  </div>\n"
            ]
          },
          "metadata": {},
          "execution_count": 28
        }
      ]
    },
    {
      "cell_type": "markdown",
      "source": [
        "## New coordinats"
      ],
      "metadata": {
        "id": "E-pnH2Q4Qf9b"
      }
    },
    {
      "cell_type": "code",
      "source": [
        "pca = PCA(n_components=2, svd_solver='full') #pca object creation with 2 PCs\n",
        "data_transformed = pca.fit(data).transform(data) # new coordinats of the objects in 2 PCs"
      ],
      "metadata": {
        "id": "5ejRvUGmPRkk"
      },
      "execution_count": null,
      "outputs": []
    },
    {
      "cell_type": "markdown",
      "source": [
        "## Coordinates of the first object with respect to the both principal components"
      ],
      "metadata": {
        "id": "jo1173rGQRTe"
      }
    },
    {
      "cell_type": "code",
      "source": [
        "[round(i, 3) for i in data_transformed[0]]"
      ],
      "metadata": {
        "colab": {
          "base_uri": "https://localhost:8080/"
        },
        "id": "OEk25nU4QnbV",
        "outputId": "27677016-c39b-4e3d-d10e-7a46eb081f07"
      },
      "execution_count": null,
      "outputs": [
        {
          "output_type": "execute_result",
          "data": {
            "text/plain": [
              "[-19.058, 31.913]"
            ]
          },
          "metadata": {},
          "execution_count": 30
        }
      ]
    },
    {
      "cell_type": "markdown",
      "source": [
        "## Fraction of variance explained when the first and the second principal components"
      ],
      "metadata": {
        "id": "M1NnLGpmXtOT"
      }
    },
    {
      "cell_type": "code",
      "source": [
        "explained_var_1st=pca.explained_variance_ratio_[0] #fraction of variance when only 1st is used\n",
        "explained_var_2nd=pca.explained_variance_ratio_[1] #when only second is used\n",
        "print (\"Fraction of variance:\", round(explained_var_1st+explained_var_2nd,3)) #when both"
      ],
      "metadata": {
        "colab": {
          "base_uri": "https://localhost:8080/"
        },
        "id": "hLkJPV6PQ5d6",
        "outputId": "2b915207-2f62-45a8-d086-81cb5387749a"
      },
      "execution_count": null,
      "outputs": [
        {
          "output_type": "stream",
          "name": "stdout",
          "text": [
            "Fraction of variance: 0.781\n"
          ]
        }
      ]
    },
    {
      "cell_type": "markdown",
      "source": [
        "## Minimal number of principal components are to be used, so that the fraction of variance explained will exceed 0.85"
      ],
      "metadata": {
        "id": "nITi1z7HZR40"
      }
    },
    {
      "cell_type": "code",
      "source": [
        "pca_1 = PCA(n_components=10, svd_solver='full') #creating a pca object with 10 components to see how the explained fraction is changing\n",
        "data_transformed_10 = pca_1.fit(data).transform(data) #\n",
        "explained_variance = np.round(np.cumsum(pca_1.explained_variance_ratio_), 3) #calculating the explained fraction for each number of components used\n",
        "explained_variance"
      ],
      "metadata": {
        "colab": {
          "base_uri": "https://localhost:8080/"
        },
        "id": "Zx2-x61mVtpu",
        "outputId": "3698e597-0236-4f18-d34b-45b4ed17e793"
      },
      "execution_count": null,
      "outputs": [
        {
          "output_type": "execute_result",
          "data": {
            "text/plain": [
              "array([0.492, 0.781, 0.991, 0.993, 0.995, 0.996, 0.998, 0.999, 0.999,\n",
              "       1.   ])"
            ]
          },
          "metadata": {},
          "execution_count": 32
        }
      ]
    },
    {
      "cell_type": "markdown",
      "source": [
        "## Number of groups the objects can be splitted in, if only the first and the second principal components are used?"
      ],
      "metadata": {
        "id": "zb0YDkP7ZBuA"
      }
    },
    {
      "cell_type": "code",
      "source": [
        "plt.scatter([n[0] for n in data_transformed], [n[1] for n in data_transformed])"
      ],
      "metadata": {
        "colab": {
          "base_uri": "https://localhost:8080/",
          "height": 447
        },
        "id": "h3KTkhGVVEps",
        "outputId": "73bc1bb4-3cf7-4f2b-f38d-59a37d3de634"
      },
      "execution_count": null,
      "outputs": [
        {
          "output_type": "execute_result",
          "data": {
            "text/plain": [
              "<matplotlib.collections.PathCollection at 0x790074680cd0>"
            ]
          },
          "metadata": {},
          "execution_count": 34
        },
        {
          "output_type": "display_data",
          "data": {
            "text/plain": [
              "<Figure size 640x480 with 1 Axes>"
            ],
            "image/png": "[encoded data removed]"
          },
          "metadata": {}
        }
      ]
    },
    {
      "cell_type": "markdown",
      "source": [
        "# Task 2 - logo"
      ],
      "metadata": {
        "id": "_i22qLdpVioO"
      }
    },
    {
      "cell_type": "code",
      "source": [
        "loading=pd.read_csv('/content/drive/My Drive/Data/X_loadings_561.csv', header=None, delimiter=';') #loading matrix\n",
        "reduced=pd.read_csv('/content/drive/My Drive/Data/X_reduced_561.csv', header=None, delimiter=';') #score matrix"
      ],
      "metadata": {
        "id": "WUTxte6DZ0U2"
      },
      "execution_count": null,
      "outputs": []
    },
    {
      "cell_type": "code",
      "source": [
        "Z = np.dot(loading, reduced.transpose())\n",
        "plt.imshow(Z) #recovering the image"
      ],
      "metadata": {
        "colab": {
          "base_uri": "https://localhost:8080/",
          "height": 450
        },
        "id": "hETaB4aSawEk",
        "outputId": "5d9bdcd8-9140-4c30-f385-28fcc9c7c9a4"
      },
      "execution_count": null,
      "outputs": [
        {
          "output_type": "execute_result",
          "data": {
            "text/plain": [
              "<matplotlib.image.AxesImage at 0x790074392b60>"
            ]
          },
          "metadata": {},
          "execution_count": 38
        },
        {
          "output_type": "display_data",
          "data": {
            "text/plain": [
              "<Figure size 640x480 with 1 Axes>"
            ],
            "image/png": "[encoded data removed]"
          },
          "metadata": {}
        }
      ]
    }
  ]
}